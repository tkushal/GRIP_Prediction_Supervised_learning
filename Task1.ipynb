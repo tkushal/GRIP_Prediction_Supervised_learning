{
 "cells": [
  {
   "cell_type": "markdown",
   "id": "c3a1486d",
   "metadata": {},
   "source": [
    "# The Sparks Foundation"
   ]
  },
  {
   "cell_type": "markdown",
   "id": "c4a33c8a",
   "metadata": {},
   "source": [
    "## Task 1 : Predict the percentage of student based on number of study hours"
   ]
  },
  {
   "cell_type": "markdown",
   "id": "aa82d649",
   "metadata": {},
   "source": [
    "#### Step 1: Importing Python Libraries"
   ]
  },
  {
   "cell_type": "code",
   "execution_count": 19,
   "id": "f0494f4b",
   "metadata": {},
   "outputs": [],
   "source": [
    "\n",
    "import pandas as pd\n",
    "import numpy as np\n",
    "import matplotlib.pyplot as plt\n",
    "%matplotlib inline\n",
    "\n",
    "\n",
    "# This is just ot ignore warnings\n",
    "\n",
    "import warnings as wgs\n",
    "wgs.filterwarnings('ignore')\n"
   ]
  },
  {
   "cell_type": "markdown",
   "id": "46b33316",
   "metadata": {},
   "source": [
    "#### Step 2: Reading our dataset from url link"
   ]
  },
  {
   "cell_type": "code",
   "execution_count": 20,
   "id": "767b4606",
   "metadata": {},
   "outputs": [],
   "source": [
    "\n",
    "source = 'https://raw.githubusercontent.com/AdiPersonalWorks/Random/master/student_scores%20-%20student_scores.csv'\n",
    "df = pd.read_csv(source)\n"
   ]
  },
  {
   "cell_type": "code",
   "execution_count": 21,
   "id": "12acac7c",
   "metadata": {},
   "outputs": [
    {
     "data": {
      "text/html": [
       "<div>\n",
       "<style scoped>\n",
       "    .dataframe tbody tr th:only-of-type {\n",
       "        vertical-align: middle;\n",
       "    }\n",
       "\n",
       "    .dataframe tbody tr th {\n",
       "        vertical-align: top;\n",
       "    }\n",
       "\n",
       "    .dataframe thead th {\n",
       "        text-align: right;\n",
       "    }\n",
       "</style>\n",
       "<table border=\"1\" class=\"dataframe\">\n",
       "  <thead>\n",
       "    <tr style=\"text-align: right;\">\n",
       "      <th></th>\n",
       "      <th>Hours</th>\n",
       "      <th>Scores</th>\n",
       "    </tr>\n",
       "  </thead>\n",
       "  <tbody>\n",
       "    <tr>\n",
       "      <th>0</th>\n",
       "      <td>2.5</td>\n",
       "      <td>21</td>\n",
       "    </tr>\n",
       "    <tr>\n",
       "      <th>1</th>\n",
       "      <td>5.1</td>\n",
       "      <td>47</td>\n",
       "    </tr>\n",
       "    <tr>\n",
       "      <th>2</th>\n",
       "      <td>3.2</td>\n",
       "      <td>27</td>\n",
       "    </tr>\n",
       "    <tr>\n",
       "      <th>3</th>\n",
       "      <td>8.5</td>\n",
       "      <td>75</td>\n",
       "    </tr>\n",
       "    <tr>\n",
       "      <th>4</th>\n",
       "      <td>3.5</td>\n",
       "      <td>30</td>\n",
       "    </tr>\n",
       "  </tbody>\n",
       "</table>\n",
       "</div>"
      ],
      "text/plain": [
       "   Hours  Scores\n",
       "0    2.5      21\n",
       "1    5.1      47\n",
       "2    3.2      27\n",
       "3    8.5      75\n",
       "4    3.5      30"
      ]
     },
     "execution_count": 21,
     "metadata": {},
     "output_type": "execute_result"
    }
   ],
   "source": [
    "\n",
    "# This allows us to view first 5 records of dataset from head\n",
    "\n",
    "df.head()\n"
   ]
  },
  {
   "cell_type": "code",
   "execution_count": 22,
   "id": "90ee1fc0",
   "metadata": {},
   "outputs": [
    {
     "data": {
      "text/plain": [
       "Hours     25\n",
       "Scores    25\n",
       "dtype: int64"
      ]
     },
     "execution_count": 22,
     "metadata": {},
     "output_type": "execute_result"
    }
   ],
   "source": [
    "\n",
    "df.count()\n"
   ]
  },
  {
   "cell_type": "code",
   "execution_count": 24,
   "id": "2fee9fab",
   "metadata": {},
   "outputs": [
    {
     "data": {
      "text/plain": [
       "(25, 2)"
      ]
     },
     "execution_count": 24,
     "metadata": {},
     "output_type": "execute_result"
    }
   ],
   "source": [
    "\n",
    "df.shape\n"
   ]
  },
  {
   "cell_type": "markdown",
   "id": "19b9daaa",
   "metadata": {},
   "source": [
    "#### We can see data is a form of [ 25 x 2 ] Matrix"
   ]
  },
  {
   "cell_type": "markdown",
   "id": "471374b0",
   "metadata": {},
   "source": [
    "### Let's Check Statistical information"
   ]
  },
  {
   "cell_type": "code",
   "execution_count": 23,
   "id": "cda33e43",
   "metadata": {},
   "outputs": [
    {
     "data": {
      "text/html": [
       "<div>\n",
       "<style scoped>\n",
       "    .dataframe tbody tr th:only-of-type {\n",
       "        vertical-align: middle;\n",
       "    }\n",
       "\n",
       "    .dataframe tbody tr th {\n",
       "        vertical-align: top;\n",
       "    }\n",
       "\n",
       "    .dataframe thead th {\n",
       "        text-align: right;\n",
       "    }\n",
       "</style>\n",
       "<table border=\"1\" class=\"dataframe\">\n",
       "  <thead>\n",
       "    <tr style=\"text-align: right;\">\n",
       "      <th></th>\n",
       "      <th>Hours</th>\n",
       "      <th>Scores</th>\n",
       "    </tr>\n",
       "  </thead>\n",
       "  <tbody>\n",
       "    <tr>\n",
       "      <th>count</th>\n",
       "      <td>25.000000</td>\n",
       "      <td>25.000000</td>\n",
       "    </tr>\n",
       "    <tr>\n",
       "      <th>mean</th>\n",
       "      <td>5.012000</td>\n",
       "      <td>51.480000</td>\n",
       "    </tr>\n",
       "    <tr>\n",
       "      <th>std</th>\n",
       "      <td>2.525094</td>\n",
       "      <td>25.286887</td>\n",
       "    </tr>\n",
       "    <tr>\n",
       "      <th>min</th>\n",
       "      <td>1.100000</td>\n",
       "      <td>17.000000</td>\n",
       "    </tr>\n",
       "    <tr>\n",
       "      <th>25%</th>\n",
       "      <td>2.700000</td>\n",
       "      <td>30.000000</td>\n",
       "    </tr>\n",
       "    <tr>\n",
       "      <th>50%</th>\n",
       "      <td>4.800000</td>\n",
       "      <td>47.000000</td>\n",
       "    </tr>\n",
       "    <tr>\n",
       "      <th>75%</th>\n",
       "      <td>7.400000</td>\n",
       "      <td>75.000000</td>\n",
       "    </tr>\n",
       "    <tr>\n",
       "      <th>max</th>\n",
       "      <td>9.200000</td>\n",
       "      <td>95.000000</td>\n",
       "    </tr>\n",
       "  </tbody>\n",
       "</table>\n",
       "</div>"
      ],
      "text/plain": [
       "           Hours     Scores\n",
       "count  25.000000  25.000000\n",
       "mean    5.012000  51.480000\n",
       "std     2.525094  25.286887\n",
       "min     1.100000  17.000000\n",
       "25%     2.700000  30.000000\n",
       "50%     4.800000  47.000000\n",
       "75%     7.400000  75.000000\n",
       "max     9.200000  95.000000"
      ]
     },
     "execution_count": 23,
     "metadata": {},
     "output_type": "execute_result"
    }
   ],
   "source": [
    "\n",
    "df.describe()\n"
   ]
  },
  {
   "cell_type": "markdown",
   "id": "4b41f074",
   "metadata": {},
   "source": [
    "#### Step 3: Lets plot the graph and visualize our data"
   ]
  },
  {
   "cell_type": "code",
   "execution_count": 33,
   "id": "a4a9b1ba",
   "metadata": {
    "scrolled": true
   },
   "outputs": [
    {
     "data": {
      "image/png": "[encoded data removed]",
      "text/plain": [
       "<Figure size 504x360 with 1 Axes>"
      ]
     },
     "metadata": {
      "needs_background": "light"
     },
     "output_type": "display_data"
    }
   ],
   "source": [
    "\n",
    "plt.rcParams[\"figure.figsize\"] = [7,5]\n",
    "\n",
    "df.plot(x='Hours', y='Scores', style='.',color='blue', markersize=10)\n",
    "\n",
    "plt.title('Hours vs Percentage')\n",
    "plt.xlabel('Hours Studied')\n",
    "plt.ylabel('Students marks prediction [Hours vs Percentage]')\n",
    "\n",
    "plt.grid()\n",
    "plt.show()\n"
   ]
  },
  {
   "cell_type": "code",
   "execution_count": 34,
   "id": "aa0bf809",
   "metadata": {},
   "outputs": [
    {
     "data": {
      "text/plain": [
       "<AxesSubplot:xlabel='Hours'>"
      ]
     },
     "execution_count": 34,
     "metadata": {},
     "output_type": "execute_result"
    },
    {
     "data": {
      "image/png": "[encoded data removed]",
      "text/plain": [
       "<Figure size 504x360 with 1 Axes>"
      ]
     },
     "metadata": {
      "needs_background": "light"
     },
     "output_type": "display_data"
    }
   ],
   "source": [
    "# Sorting x-axis in ascending order and check the plotted bar-graph for respective values\n",
    "\n",
    "\n",
    "df.sort_values(['Hours'], axis=0, ascending=[True], inplace=True)\n",
    "\n",
    "df.head(10)\n",
    "\n",
    "df.plot.bar(x='Hours', y='Scores')\n"
   ]
  },
  {
   "cell_type": "markdown",
   "id": "2292fe6b",
   "metadata": {},
   "source": [
    "#### Step 4: Prepare data for model "
   ]
  },
  {
   "cell_type": "code",
   "execution_count": 36,
   "id": "d21a5183",
   "metadata": {},
   "outputs": [],
   "source": [
    "\n",
    "x = data.iloc[:, :-1].values\n",
    "y = data.iloc[:, 1].values\n"
   ]
  },
  {
   "cell_type": "code",
   "execution_count": 37,
   "id": "c452329b",
   "metadata": {},
   "outputs": [
    {
     "name": "stdout",
     "output_type": "stream",
     "text": [
      "[[1.1]\n",
      " [1.5]\n",
      " [1.9]\n",
      " [2.5]\n",
      " [2.5]\n",
      " [2.7]\n",
      " [2.7]\n",
      " [3.2]\n",
      " [3.3]\n",
      " [3.5]\n",
      " [3.8]\n",
      " [4.5]\n",
      " [4.8]\n",
      " [5.1]\n",
      " [5.5]\n",
      " [5.9]\n",
      " [6.1]\n",
      " [6.9]\n",
      " [7.4]\n",
      " [7.7]\n",
      " [7.8]\n",
      " [8.3]\n",
      " [8.5]\n",
      " [8.9]\n",
      " [9.2]]\n"
     ]
    }
   ],
   "source": [
    "\n",
    "print(x)\n"
   ]
  },
  {
   "cell_type": "code",
   "execution_count": 38,
   "id": "f7ae493c",
   "metadata": {},
   "outputs": [
    {
     "name": "stdout",
     "output_type": "stream",
     "text": [
      "[17 20 24 21 30 30 25 27 42 30 35 41 54 47 60 62 67 76 69 85 86 81 75 95\n",
      " 88]\n"
     ]
    }
   ],
   "source": [
    "\n",
    "print(y)\n"
   ]
  },
  {
   "cell_type": "markdown",
   "id": "1dbec3a7",
   "metadata": {},
   "source": [
    "## Training & Testing our data model "
   ]
  },
  {
   "cell_type": "markdown",
   "id": "bd693fd1",
   "metadata": {},
   "source": [
    "#### Diving dataset into 4:1 ratio of 5 for training our model / algorithm & testing"
   ]
  },
  {
   "cell_type": "code",
   "execution_count": 40,
   "id": "5a384891",
   "metadata": {},
   "outputs": [],
   "source": [
    "\n",
    "from sklearn.model_selection import train_test_split\n",
    "x_train, x_test, y_train, y_test = train_test_split(x, y, test_size = 0.2, random_state = 0)\n"
   ]
  },
  {
   "cell_type": "markdown",
   "id": "3b72da0c",
   "metadata": {},
   "source": [
    "## Train our Model"
   ]
  },
  {
   "cell_type": "code",
   "execution_count": 42,
   "id": "c2d54cb3",
   "metadata": {},
   "outputs": [],
   "source": [
    "\n",
    "from sklearn.linear_model import LinearRegression\n",
    "clf = LinearRegression()\n"
   ]
  },
  {
   "cell_type": "code",
   "execution_count": 43,
   "id": "82182e77",
   "metadata": {},
   "outputs": [
    {
     "data": {
      "text/plain": [
       "LinearRegression()"
      ]
     },
     "execution_count": 43,
     "metadata": {},
     "output_type": "execute_result"
    }
   ],
   "source": [
    "\n",
    "clf.fit(x_train, y_train)\n"
   ]
  },
  {
   "cell_type": "markdown",
   "id": "eb6a6341",
   "metadata": {},
   "source": [
    "### Finding the best-fit line"
   ]
  },
  {
   "cell_type": "code",
   "execution_count": 45,
   "id": "c618b349",
   "metadata": {},
   "outputs": [
    {
     "data": {
      "image/png": "[encoded data removed]",
      "text/plain": [
       "<Figure size 504x360 with 1 Axes>"
      ]
     },
     "metadata": {
      "needs_background": "light"
     },
     "output_type": "display_data"
    }
   ],
   "source": [
    "\n",
    "#plotting our regression line\n",
    "line = clf.coef_*x + clf.intercept_\n",
    "\n",
    "\n",
    "#plotting for the test data\n",
    "plt.scatter(x,y)\n",
    "plt.plot(x, line, color='r');\n",
    "\n",
    "plt.title('Hours vs Percentage')\n",
    "plt.xlabel('Hours Studied')\n",
    "plt.ylabel('Percentage Scored')\n",
    "\n",
    "plt.grid()\n",
    "plt.show()\n"
   ]
  },
  {
   "cell_type": "code",
   "execution_count": 14,
   "id": "34dfeb81",
   "metadata": {},
   "outputs": [
    {
     "name": "stdout",
     "output_type": "stream",
     "text": [
      "2.5300405912062587\n",
      "[9.66210145]\n"
     ]
    }
   ],
   "source": [
    "\n",
    "print(clf.intercept_)\n",
    "print(clf.coef_)\n"
   ]
  },
  {
   "cell_type": "markdown",
   "id": "c09876a9",
   "metadata": {},
   "source": [
    "## Test our Model - making our predictions"
   ]
  },
  {
   "cell_type": "code",
   "execution_count": 48,
   "id": "aa8a4c4e",
   "metadata": {},
   "outputs": [],
   "source": [
    "\n",
    "y_pred = clf.predict(x_test)\n",
    "\n",
    "compare = pd.DataFrame({'Actual': y_test, 'Predicted': y_pred})\n"
   ]
  },
  {
   "cell_type": "code",
   "execution_count": 49,
   "id": "06a339ec",
   "metadata": {},
   "outputs": [
    {
     "data": {
      "text/html": [
       "<div>\n",
       "<style scoped>\n",
       "    .dataframe tbody tr th:only-of-type {\n",
       "        vertical-align: middle;\n",
       "    }\n",
       "\n",
       "    .dataframe tbody tr th {\n",
       "        vertical-align: top;\n",
       "    }\n",
       "\n",
       "    .dataframe thead th {\n",
       "        text-align: right;\n",
       "    }\n",
       "</style>\n",
       "<table border=\"1\" class=\"dataframe\">\n",
       "  <thead>\n",
       "    <tr style=\"text-align: right;\">\n",
       "      <th></th>\n",
       "      <th>Actual</th>\n",
       "      <th>Predicted</th>\n",
       "    </tr>\n",
       "  </thead>\n",
       "  <tbody>\n",
       "    <tr>\n",
       "      <th>0</th>\n",
       "      <td>30</td>\n",
       "      <td>28.617714</td>\n",
       "    </tr>\n",
       "    <tr>\n",
       "      <th>1</th>\n",
       "      <td>24</td>\n",
       "      <td>20.888033</td>\n",
       "    </tr>\n",
       "    <tr>\n",
       "      <th>2</th>\n",
       "      <td>85</td>\n",
       "      <td>76.928222</td>\n",
       "    </tr>\n",
       "    <tr>\n",
       "      <th>3</th>\n",
       "      <td>67</td>\n",
       "      <td>61.468859</td>\n",
       "    </tr>\n",
       "    <tr>\n",
       "      <th>4</th>\n",
       "      <td>41</td>\n",
       "      <td>46.009497</td>\n",
       "    </tr>\n",
       "  </tbody>\n",
       "</table>\n",
       "</div>"
      ],
      "text/plain": [
       "   Actual  Predicted\n",
       "0      30  28.617714\n",
       "1      24  20.888033\n",
       "2      85  76.928222\n",
       "3      67  61.468859\n",
       "4      41  46.009497"
      ]
     },
     "execution_count": 49,
     "metadata": {},
     "output_type": "execute_result"
    }
   ],
   "source": [
    "\n",
    "compare\n"
   ]
  },
  {
   "cell_type": "markdown",
   "id": "2294848c",
   "metadata": {},
   "source": [
    "### Co-efficient of determination R^2 of prediction"
   ]
  },
  {
   "cell_type": "code",
   "execution_count": 50,
   "id": "d9a4c4a1",
   "metadata": {},
   "outputs": [
    {
     "data": {
      "text/plain": [
       "0.9503831741928792"
      ]
     },
     "execution_count": 50,
     "metadata": {},
     "output_type": "execute_result"
    }
   ],
   "source": [
    "\n",
    "clf.score(x_test, y_test)\n"
   ]
  },
  {
   "cell_type": "markdown",
   "id": "083db403",
   "metadata": {},
   "source": [
    "### Testing the data with values"
   ]
  },
  {
   "cell_type": "code",
   "execution_count": 51,
   "id": "b772d163",
   "metadata": {},
   "outputs": [
    {
     "name": "stdout",
     "output_type": "stream",
     "text": [
      "The predicted score if person studies for 9.25 hours is 91.904478976234\n"
     ]
    }
   ],
   "source": [
    "\n",
    "hours = 9.25\n",
    "own_pred = clf.predict([[hours]])\n",
    "\n",
    "print('The predicted score if person studies for', hours, 'hours is', own_pred[0])\n"
   ]
  },
  {
   "cell_type": "markdown",
   "id": "6aba5250",
   "metadata": {},
   "source": [
    "### Evaluating the Model"
   ]
  },
  {
   "cell_type": "code",
   "execution_count": 52,
   "id": "b0504740",
   "metadata": {},
   "outputs": [
    {
     "name": "stdout",
     "output_type": "stream",
     "text": [
      "Mean Absolute Error 4.621333622532769\n"
     ]
    }
   ],
   "source": [
    "\n",
    "from sklearn import metrics\n",
    "\n",
    "print('Mean Absolute Error', metrics.mean_absolute_error(y_test, y_pred))\n"
   ]
  }
 ],
 "metadata": {
  "kernelspec": {
   "display_name": "Python 3",
   "language": "python",
   "name": "python3"
  },
  "language_info": {
   "codemirror_mode": {
    "name": "ipython",
    "version": 3
   },
   "file_extension": ".py",
   "mimetype": "text/x-python",
   "name": "python",
   "nbconvert_exporter": "python",
   "pygments_lexer": "ipython3",
   "version": "3.8.8"
  }
 },
 "nbformat": 4,
 "nbformat_minor": 5
}
